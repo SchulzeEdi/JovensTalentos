{
 "cells": [
  {
   "attachments": {},
   "cell_type": "markdown",
   "metadata": {},
   "source": [
    "*Bibliotecas*"
   ]
  },
  {
   "cell_type": "code",
   "execution_count": 8,
   "metadata": {},
   "outputs": [],
   "source": [
    "import pandas as pd\n",
    "import numpy as np\n",
    "import matplotlib.pyplot as plt \n",
    "import seaborn as sns\n",
    "from sklearn.cluster import KMeans \n",
    "from sklearn.metrics import silhouette_score\n",
    "from sklearn.preprocessing import MinMaxScaler"
   ]
  },
  {
   "cell_type": "code",
   "execution_count": 1,
   "metadata": {},
   "outputs": [
    {
     "name": "stdout",
     "output_type": "stream",
     "text": [
      "Digite um número\n",
      "4.0 | 5.0 | 6.0\n"
     ]
    }
   ],
   "source": [
    "#exercicio 1 \n",
    "\n",
    "print('Digite um número')\n",
    "numero = input()\n",
    "numero = float(numero)\n",
    "print(numero-1,'|', numero,'|', numero+1)"
   ]
  },
  {
   "cell_type": "code",
   "execution_count": 2,
   "metadata": {},
   "outputs": [
    {
     "name": "stdout",
     "output_type": "stream",
     "text": [
      "Digite um número\n",
      "Digite outro número\n",
      "Os dois números são iguais\n"
     ]
    }
   ],
   "source": [
    "#exercicio 2 \n",
    "\n",
    "print('Digite um número')\n",
    "numeroA = input()\n",
    "print('Digite outro número')\n",
    "numeroB = input()\n",
    "if numeroA > numeroB :\n",
    "    print('Primeiro número é maior que o segundo número, valor dele é: '+ numeroA)\n",
    "elif numeroB > numeroA:\n",
    "   print('Segundo número é maior que o primeiro número, valor dele é: ' + numeroB)\n",
    "else:\n",
    "  print('Os dois números são iguais')"
   ]
  },
  {
   "cell_type": "code",
   "execution_count": 3,
   "metadata": {},
   "outputs": [
    {
     "name": "stdout",
     "output_type": "stream",
     "text": [
      "Digite três números dos quais serão os lados de um triângulo (Um lado não pode ser maior que os outros dois lados somados).\n"
     ]
    }
   ],
   "source": [
    "#exercicio 3\n",
    "\n",
    "print('Digite três números dos quais serão os lados de um triângulo (Um lado não pode ser maior que os outros dois lados somados).')\n",
    "numeroA = input()\n",
    "numeroB = input()\n",
    "numeroC = input()\n",
    "\n",
    "numeroA = float(numeroA)\n",
    "numeroB = float(numeroB)\n",
    "numeroC = float(numeroC)"
   ]
  },
  {
   "cell_type": "code",
   "execution_count": 4,
   "metadata": {},
   "outputs": [],
   "source": [
    "numeroBC = numeroB+numeroC\n",
    "numeroCA = numeroC+numeroA\n",
    "numeroAB = numeroA+numeroB"
   ]
  },
  {
   "cell_type": "code",
   "execution_count": 5,
   "metadata": {},
   "outputs": [],
   "source": [
    "if numeroBC <= numeroA:\n",
    "    print('Número A inválido')\n",
    "if numeroCA <= numeroB:\n",
    "    print('Número B inválido')\n",
    "if numeroAB <= numeroC:\n",
    "    print('Número  C inválido')"
   ]
  },
  {
   "cell_type": "code",
   "execution_count": 6,
   "metadata": {},
   "outputs": [
    {
     "name": "stdout",
     "output_type": "stream",
     "text": [
      "triângulo equilátero\n"
     ]
    }
   ],
   "source": [
    "if numeroA == numeroB == numeroC: \n",
    "    print('triângulo equilátero')\n",
    "elif (numeroA == numeroB and numeroB != numeroC) or (numeroA == numeroC and numeroB != numeroA) or (numeroB == numeroC and numeroA != numeroC):\n",
    "    print('triângulo isósceles')\n",
    "else:\n",
    "    print('triângulo escaleno')"
   ]
  },
  {
   "cell_type": "code",
   "execution_count": 40,
   "metadata": {},
   "outputs": [],
   "source": [
    "year = [1972, 1974, 1978, 1982, 1985, 1989, 1993, 1997, 1999, 2000, 2003, 2004, 2007, 2008, 2012]\n",
    "ntrans = [0.0025, 0.005, 0.029, 0.12, 0.275, 1.18, 3.1, 7.5, 24.0, 42.0, 220.0, 592.0, 1720.0, 2046.0, 3100.0]\n",
    "df = pd.DataFrame([year, ntrans])   "
   ]
  },
  {
   "cell_type": "code",
   "execution_count": 46,
   "metadata": {},
   "outputs": [
    {
     "data": {
      "text/html": [
       "<div>\n",
       "<style scoped>\n",
       "    .dataframe tbody tr th:only-of-type {\n",
       "        vertical-align: middle;\n",
       "    }\n",
       "\n",
       "    .dataframe tbody tr th {\n",
       "        vertical-align: top;\n",
       "    }\n",
       "\n",
       "    .dataframe thead th {\n",
       "        text-align: right;\n",
       "    }\n",
       "</style>\n",
       "<table border=\"1\" class=\"dataframe\">\n",
       "  <thead>\n",
       "    <tr style=\"text-align: right;\">\n",
       "      <th></th>\n",
       "      <th>0</th>\n",
       "      <th>1</th>\n",
       "      <th>2</th>\n",
       "      <th>3</th>\n",
       "      <th>4</th>\n",
       "      <th>5</th>\n",
       "      <th>6</th>\n",
       "      <th>7</th>\n",
       "      <th>8</th>\n",
       "      <th>9</th>\n",
       "      <th>10</th>\n",
       "      <th>11</th>\n",
       "      <th>12</th>\n",
       "      <th>13</th>\n",
       "      <th>14</th>\n",
       "    </tr>\n",
       "  </thead>\n",
       "  <tbody>\n",
       "    <tr>\n",
       "      <th>0</th>\n",
       "      <td>1972.0000</td>\n",
       "      <td>1974.000</td>\n",
       "      <td>1978.000</td>\n",
       "      <td>1982.00</td>\n",
       "      <td>1985.000</td>\n",
       "      <td>1989.00</td>\n",
       "      <td>1993.0</td>\n",
       "      <td>1997.0</td>\n",
       "      <td>1999.0</td>\n",
       "      <td>2000.0</td>\n",
       "      <td>2003.0</td>\n",
       "      <td>2004.0</td>\n",
       "      <td>2007.0</td>\n",
       "      <td>2008.0</td>\n",
       "      <td>2012.0</td>\n",
       "    </tr>\n",
       "    <tr>\n",
       "      <th>1</th>\n",
       "      <td>0.0025</td>\n",
       "      <td>0.005</td>\n",
       "      <td>0.029</td>\n",
       "      <td>0.12</td>\n",
       "      <td>0.275</td>\n",
       "      <td>1.18</td>\n",
       "      <td>3.1</td>\n",
       "      <td>7.5</td>\n",
       "      <td>24.0</td>\n",
       "      <td>42.0</td>\n",
       "      <td>220.0</td>\n",
       "      <td>592.0</td>\n",
       "      <td>1720.0</td>\n",
       "      <td>2046.0</td>\n",
       "      <td>3100.0</td>\n",
       "    </tr>\n",
       "  </tbody>\n",
       "</table>\n",
       "</div>"
      ],
      "text/plain": [
       "          0         1         2        3         4        5       6       7   \\\n",
       "0  1972.0000  1974.000  1978.000  1982.00  1985.000  1989.00  1993.0  1997.0   \n",
       "1     0.0025     0.005     0.029     0.12     0.275     1.18     3.1     7.5   \n",
       "\n",
       "       8       9       10      11      12      13      14  \n",
       "0  1999.0  2000.0  2003.0  2004.0  2007.0  2008.0  2012.0  \n",
       "1    24.0    42.0   220.0   592.0  1720.0  2046.0  3100.0  "
      ]
     },
     "execution_count": 46,
     "metadata": {},
     "output_type": "execute_result"
    }
   ],
   "source": [
    "df"
   ]
  },
  {
   "cell_type": "code",
   "execution_count": 50,
   "metadata": {},
   "outputs": [
    {
     "data": {
      "text/plain": [
       "[<matplotlib.lines.Line2D at 0x7f8428c84b20>]"
      ]
     },
     "execution_count": 50,
     "metadata": {},
     "output_type": "execute_result"
    },
    {
     "data": {
      "image/png": "[encoded data removed]",
      "text/plain": [
       "<Figure size 640x480 with 1 Axes>"
      ]
     },
     "metadata": {},
     "output_type": "display_data"
    }
   ],
   "source": [
    "#exercício 4 \n",
    "import matplotlib.pyplot as plt\n",
    "from pandas import read_excel\n",
    "\n",
    "\n",
    "#df.plot.bar(df.keys(), df.values(), color='blue', width='0.4')\n",
    "plt.plot(year, ntrans, linestyle='-', marker='o', color = 'red', markersize = 4)"
   ]
  },
  {
   "cell_type": "code",
   "execution_count": 56,
   "metadata": {},
   "outputs": [
    {
     "name": "stdout",
     "output_type": "stream",
     "text": [
      "Escreva F para Feminino e M para Masculino\n",
      "Feminino\n"
     ]
    }
   ],
   "source": [
    "#Exercicio 7\n",
    "print('Escreva F para Feminino e M para Masculino')\n",
    "sexo = input()\n",
    "if sexo == 'F' or sexo == 'f':\n",
    "    print('Feminino')\n",
    "elif sexo == 'M' or sexo == 'm':\n",
    "    print('Masculino')\n",
    "else:\n",
    "    print('Sexo Inválido')"
   ]
  }
 ],
 "metadata": {
  "kernelspec": {
   "display_name": "env_py",
   "language": "python",
   "name": "python3"
  },
  "language_info": {
   "codemirror_mode": {
    "name": "ipython",
    "version": 3
   },
   "file_extension": ".py",
   "mimetype": "text/x-python",
   "name": "python",
   "nbconvert_exporter": "python",
   "pygments_lexer": "ipython3",
   "version": "3.8.16"
  },
  "orig_nbformat": 4
 },
 "nbformat": 4,
 "nbformat_minor": 2
}

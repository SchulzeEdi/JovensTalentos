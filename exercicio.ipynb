{
 "cells": [
  {
   "cell_type": "code",
   "execution_count": 1,
   "metadata": {},
   "outputs": [
    {
     "name": "stdout",
     "output_type": "stream",
     "text": [
      "Digite um número\n",
      "4.0 | 5.0 | 6.0\n"
     ]
    }
   ],
   "source": [
    "#exercicio 1 \n",
    "\n",
    "print('Digite um número')\n",
    "numero = input()\n",
    "numero = float(numero)\n",
    "print(numero-1,'|', numero,'|', numero+1)"
   ]
  },
  {
   "cell_type": "code",
   "execution_count": 2,
   "metadata": {},
   "outputs": [
    {
     "name": "stdout",
     "output_type": "stream",
     "text": [
      "Digite um número\n",
      "Digite outro número\n",
      "Os dois números são iguais\n"
     ]
    }
   ],
   "source": [
    "#exercicio 2 \n",
    "\n",
    "print('Digite um número')\n",
    "numeroA = input()\n",
    "print('Digite outro número')\n",
    "numeroB = input()\n",
    "if numeroA > numeroB :\n",
    "    print('Primeiro número é maior que o segundo número, valor dele é: '+ numeroA)\n",
    "elif numeroB > numeroA:\n",
    "   print('Segundo número é maior que o primeiro número, valor dele é: ' + numeroB)\n",
    "else:\n",
    "  print('Os dois números são iguais')"
   ]
  },
  {
   "cell_type": "code",
   "execution_count": 3,
   "metadata": {},
   "outputs": [
    {
     "name": "stdout",
     "output_type": "stream",
     "text": [
      "Digite três números dos quais serão os lados de um triângulo (Um lado não pode ser maior que os outros dois lados somados).\n"
     ]
    }
   ],
   "source": [
    "#exercicio 3\n",
    "\n",
    "print('Digite três números dos quais serão os lados de um triângulo (Um lado não pode ser maior que os outros dois lados somados).')\n",
    "numeroA = input()\n",
    "numeroB = input()\n",
    "numeroC = input()\n",
    "\n",
    "numeroA = float(numeroA)\n",
    "numeroB = float(numeroB)\n",
    "numeroC = float(numeroC)"
   ]
  },
  {
   "cell_type": "code",
   "execution_count": 4,
   "metadata": {},
   "outputs": [],
   "source": [
    "numeroBC = numeroB+numeroC\n",
    "numeroCA = numeroC+numeroA\n",
    "numeroAB = numeroA+numeroB"
   ]
  },
  {
   "cell_type": "code",
   "execution_count": 5,
   "metadata": {},
   "outputs": [],
   "source": [
    "if numeroBC <= numeroA:\n",
    "    print('Número A inválido')\n",
    "if numeroCA <= numeroB:\n",
    "    print('Número B inválido')\n",
    "if numeroAB <= numeroC:\n",
    "    print('Número  C inválido')"
   ]
  },
  {
   "cell_type": "code",
   "execution_count": 6,
   "metadata": {},
   "outputs": [
    {
     "name": "stdout",
     "output_type": "stream",
     "text": [
      "triângulo equilátero\n"
     ]
    }
   ],
   "source": [
    "if numeroA == numeroB == numeroC: \n",
    "    print('triângulo equilátero')\n",
    "elif (numeroA == numeroB and numeroB != numeroC) or (numeroA == numeroC and numeroB != numeroA) or (numeroB == numeroC and numeroA != numeroC):\n",
    "    print('triângulo isósceles')\n",
    "else:\n",
    "    print('triângulo escaleno')"
   ]
  }
 ],
 "metadata": {
  "kernelspec": {
   "display_name": "env_py",
   "language": "python",
   "name": "python3"
  },
  "language_info": {
   "codemirror_mode": {
    "name": "ipython",
    "version": 3
   },
   "file_extension": ".py",
   "mimetype": "text/x-python",
   "name": "python",
   "nbconvert_exporter": "python",
   "pygments_lexer": "ipython3",
   "version": "3.8.16"
  },
  "orig_nbformat": 4
 },
 "nbformat": 4,
 "nbformat_minor": 2
}

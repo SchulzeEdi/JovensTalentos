{
 "cells": [
  {
   "cell_type": "code",
   "execution_count": 1,
   "metadata": {},
   "outputs": [],
   "source": [
    "import pandas as pd"
   ]
  },
  {
   "cell_type": "code",
   "execution_count": 2,
   "metadata": {},
   "outputs": [],
   "source": [
    "data = pd.read_csv('globalstore.csv')"
   ]
  },
  {
   "cell_type": "code",
   "execution_count": null,
   "metadata": {},
   "outputs": [],
   "source": [
    "data"
   ]
  },
  {
   "cell_type": "code",
   "execution_count": 4,
   "metadata": {},
   "outputs": [
    {
     "name": "stdout",
     "output_type": "stream",
     "text": [
      "['tudo bem?', 'peixe', 123, 111]\n"
     ]
    }
   ],
   "source": [
    "lista = list(range(10)) #Forma de criar lista\n",
    "lista = list(['IPM']) #Forma de criar lista\n",
    "lista = [] #limpa a lista\n",
    "lista = ['tudo bem?', 'peixe', 123, 111] #forma de criar a lista\n",
    "print(lista) #print da lista"
   ]
  },
  {
   "cell_type": "code",
   "execution_count": 5,
   "metadata": {},
   "outputs": [],
   "source": [
    "nova_lista = ['Edi', lista]\n",
    "len(nova_lista) #comrpimento da lista\n",
    "'peixe' in lista #verificar se contem o valor na lista"
   ]
  },
  {
   "cell_type": "code",
   "execution_count": null,
   "metadata": {},
   "outputs": [],
   "source": [
    "lista = ['Edi', 1, 2]\n",
    "lista.append('x') #adiciona novo elemento na lista\n",
    "prime_numbers = [2,3,5]\n"
   ]
  }
 ],
 "metadata": {
  "kernelspec": {
   "display_name": "Python 3",
   "language": "python",
   "name": "python3"
  },
  "language_info": {
   "codemirror_mode": {
    "name": "ipython",
    "version": 3
   },
   "file_extension": ".py",
   "mimetype": "text/x-python",
   "name": "python",
   "nbconvert_exporter": "python",
   "pygments_lexer": "ipython3",
   "version": "3.8.16"
  },
  "orig_nbformat": 4
 },
 "nbformat": 4,
 "nbformat_minor": 2
}
